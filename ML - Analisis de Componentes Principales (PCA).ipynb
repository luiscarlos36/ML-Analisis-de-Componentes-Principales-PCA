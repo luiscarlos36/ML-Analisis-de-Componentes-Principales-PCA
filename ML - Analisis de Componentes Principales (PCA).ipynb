{
 "cells": [
  {
   "cell_type": "markdown",
   "id": "399ef4d7",
   "metadata": {},
   "source": [
    "# Análisis de Componentes Principales (PCA)\n",
    "\n",
    "En esta práctica se evaluará un modelo de Análisis de Componentes Principales aplicado a un dataset muy famoso que consiste en 60,000 imágenes escritas a mano. El algoritmo tratará de predecir con precisión qué número es el que está escrito. Después, se evaluará el modelo."
   ]
  },
  {
   "cell_type": "code",
   "execution_count": 1,
   "id": "27063c39",
   "metadata": {},
   "outputs": [],
   "source": [
    "import matplotlib.pyplot as plt\n",
    "import pandas as pd\n",
    "%matplotlib inline"
   ]
  },
  {
   "cell_type": "markdown",
   "id": "518e6be0",
   "metadata": {},
   "source": [
    "Para este ejercicio vamos a usar el dataset MNIST dataset. Es un dataset clásico que consiste en 60000 imagenes de números escritos a mano, y el objetivo es clasificar los números.\n",
    "\n",
    "Scikit-learn tiene una función load_digits que se puede utilizar para cargar el dataset. Sin embargo, dicha función sólo tiene 1700 observaciones. Asi que lo que vamos a hacer es cargar la version completa del dataset.\n",
    "\n",
    "Para ello usaremos el paquete pickle que es una forma de guardar objetos de python al disco duro y luego poder leerlos de nuevo."
   ]
  },
  {
   "cell_type": "code",
   "execution_count": 2,
   "id": "34cfe00c",
   "metadata": {},
   "outputs": [],
   "source": [
    "import pickle\n",
    "\n",
    "with open(\"C:\\\\Users\\\\Luis Carlos\\\\Documents\\\\CSVs\\\\mnist.pkl\", \"rb\") as fname:\n",
    "    mnist = pickle.load(fname)"
   ]
  },
  {
   "cell_type": "code",
   "execution_count": 3,
   "id": "d62e78d8",
   "metadata": {},
   "outputs": [],
   "source": [
    "# Separamos las variables independientes y la variable dependiente.\n",
    "mnist_data = mnist[\"training_images\"]\n",
    "mnist_target = mnist[\"training_labels\"]"
   ]
  },
  {
   "cell_type": "code",
   "execution_count": 4,
   "id": "e8ff18b6",
   "metadata": {},
   "outputs": [
    {
     "data": {
      "text/plain": [
       "(60000, 784)"
      ]
     },
     "execution_count": 4,
     "metadata": {},
     "output_type": "execute_result"
    }
   ],
   "source": [
    "# Mostramos la forma\n",
    "mnist_data.shape"
   ]
  },
  {
   "cell_type": "code",
   "execution_count": 5,
   "id": "846896f0",
   "metadata": {},
   "outputs": [
    {
     "data": {
      "text/plain": [
       "array([  0,   0,   0,   0,   0,   0,   0,   0,   0,   0,   0,   0,   0,\n",
       "         0,   0,   0,   0,   0,   0,   0,   0,   0,   0,   0,   0,   0,\n",
       "         0,   0,   0,   0,   0,   0,   0,   0,   0,   0,   0,   0,   0,\n",
       "         0,   0,   0,   0,   0,   0,   0,   0,   0,   0,   0,   0,   0,\n",
       "         0,   0,   0,   0,   0,   0,   0,   0,   0,   0,   0,   0,   0,\n",
       "         0,   0,   0,   0,   0,   0,   0,   0,   0,   0,   0,   0,   0,\n",
       "         0,   0,   0,   0,   0,   0,   0,   0,   0,   0,   0,   0,   0,\n",
       "         0,   0,   0,   0,   0,   0,   0,   0,   0,   0,   0,   0,   0,\n",
       "         0,   0,   0,   0,   0,   0,   0,   0,   0,   0,   0,   0,   0,\n",
       "         0,   0,   0,   0,   0,   0,   0,   0,   0,   0,   0,   0,   0,\n",
       "         0,   0,   0,   0,   0,   0,   0,   0,   0,   0,   0,   0,   0,\n",
       "         0,   0,   0,   0,   0,   0,   0,   0,   0,   3,  18,  18,  18,\n",
       "       126, 136, 175,  26, 166, 255, 247, 127,   0,   0,   0,   0,   0,\n",
       "         0,   0,   0,   0,   0,   0,   0,  30,  36,  94, 154, 170, 253,\n",
       "       253, 253, 253, 253, 225, 172, 253, 242, 195,  64,   0,   0,   0,\n",
       "         0,   0,   0,   0,   0,   0,   0,   0,  49, 238, 253, 253, 253,\n",
       "       253, 253, 253, 253, 253, 251,  93,  82,  82,  56,  39,   0,   0,\n",
       "         0,   0,   0,   0,   0,   0,   0,   0,   0,   0,  18, 219, 253,\n",
       "       253, 253, 253, 253, 198, 182, 247, 241,   0,   0,   0,   0,   0,\n",
       "         0,   0,   0,   0,   0,   0,   0,   0,   0,   0,   0,   0,   0,\n",
       "        80, 156, 107, 253, 253, 205,  11,   0,  43, 154,   0,   0,   0,\n",
       "         0,   0,   0,   0,   0,   0,   0,   0,   0,   0,   0,   0,   0,\n",
       "         0,   0,   0,  14,   1, 154, 253,  90,   0,   0,   0,   0,   0,\n",
       "         0,   0,   0,   0,   0,   0,   0,   0,   0,   0,   0,   0,   0,\n",
       "         0,   0,   0,   0,   0,   0,   0, 139, 253, 190,   2,   0,   0,\n",
       "         0,   0,   0,   0,   0,   0,   0,   0,   0,   0,   0,   0,   0,\n",
       "         0,   0,   0,   0,   0,   0,   0,   0,   0,  11, 190, 253,  70,\n",
       "         0,   0,   0,   0,   0,   0,   0,   0,   0,   0,   0,   0,   0,\n",
       "         0,   0,   0,   0,   0,   0,   0,   0,   0,   0,   0,   0,  35,\n",
       "       241, 225, 160, 108,   1,   0,   0,   0,   0,   0,   0,   0,   0,\n",
       "         0,   0,   0,   0,   0,   0,   0,   0,   0,   0,   0,   0,   0,\n",
       "         0,   0,  81, 240, 253, 253, 119,  25,   0,   0,   0,   0,   0,\n",
       "         0,   0,   0,   0,   0,   0,   0,   0,   0,   0,   0,   0,   0,\n",
       "         0,   0,   0,   0,   0,  45, 186, 253, 253, 150,  27,   0,   0,\n",
       "         0,   0,   0,   0,   0,   0,   0,   0,   0,   0,   0,   0,   0,\n",
       "         0,   0,   0,   0,   0,   0,   0,   0,  16,  93, 252, 253, 187,\n",
       "         0,   0,   0,   0,   0,   0,   0,   0,   0,   0,   0,   0,   0,\n",
       "         0,   0,   0,   0,   0,   0,   0,   0,   0,   0,   0,   0, 249,\n",
       "       253, 249,  64,   0,   0,   0,   0,   0,   0,   0,   0,   0,   0,\n",
       "         0,   0,   0,   0,   0,   0,   0,   0,   0,   0,   0,  46, 130,\n",
       "       183, 253, 253, 207,   2,   0,   0,   0,   0,   0,   0,   0,   0,\n",
       "         0,   0,   0,   0,   0,   0,   0,   0,   0,   0,   0,  39, 148,\n",
       "       229, 253, 253, 253, 250, 182,   0,   0,   0,   0,   0,   0,   0,\n",
       "         0,   0,   0,   0,   0,   0,   0,   0,   0,   0,   0,  24, 114,\n",
       "       221, 253, 253, 253, 253, 201,  78,   0,   0,   0,   0,   0,   0,\n",
       "         0,   0,   0,   0,   0,   0,   0,   0,   0,   0,   0,  23,  66,\n",
       "       213, 253, 253, 253, 253, 198,  81,   2,   0,   0,   0,   0,   0,\n",
       "         0,   0,   0,   0,   0,   0,   0,   0,   0,   0,   0,  18, 171,\n",
       "       219, 253, 253, 253, 253, 195,  80,   9,   0,   0,   0,   0,   0,\n",
       "         0,   0,   0,   0,   0,   0,   0,   0,   0,   0,   0,  55, 172,\n",
       "       226, 253, 253, 253, 253, 244, 133,  11,   0,   0,   0,   0,   0,\n",
       "         0,   0,   0,   0,   0,   0,   0,   0,   0,   0,   0,   0,   0,\n",
       "       136, 253, 253, 253, 212, 135, 132,  16,   0,   0,   0,   0,   0,\n",
       "         0,   0,   0,   0,   0,   0,   0,   0,   0,   0,   0,   0,   0,\n",
       "         0,   0,   0,   0,   0,   0,   0,   0,   0,   0,   0,   0,   0,\n",
       "         0,   0,   0,   0,   0,   0,   0,   0,   0,   0,   0,   0,   0,\n",
       "         0,   0,   0,   0,   0,   0,   0,   0,   0,   0,   0,   0,   0,\n",
       "         0,   0,   0,   0,   0,   0,   0,   0,   0,   0,   0,   0,   0,\n",
       "         0,   0,   0,   0,   0,   0,   0,   0,   0,   0,   0,   0,   0,\n",
       "         0,   0,   0,   0,   0,   0,   0,   0,   0,   0,   0,   0,   0,\n",
       "         0,   0,   0,   0], dtype=uint8)"
      ]
     },
     "execution_count": 5,
     "metadata": {},
     "output_type": "execute_result"
    }
   ],
   "source": [
    "# Observamos el array del primer dígito.\n",
    "primer_digito = mnist_data[0]\n",
    "primer_digito"
   ]
  },
  {
   "cell_type": "markdown",
   "id": "72370d9f",
   "metadata": {},
   "source": [
    "Vemos que los digitos están en un solo array de tamaño 28 x 28 = 784. Podemos mostrarlo con la función \"plt.imshow\" que muestra una imagen. Tenemos que cambiar la forma del array a (28,28)."
   ]
  },
  {
   "cell_type": "code",
   "execution_count": 6,
   "id": "693b3975",
   "metadata": {},
   "outputs": [
    {
     "data": {
      "text/plain": [
       "<matplotlib.image.AxesImage at 0x24c14643d90>"
      ]
     },
     "execution_count": 6,
     "metadata": {},
     "output_type": "execute_result"
    },
    {
     "data": {
      "image/png": "[encoded data removed]",
      "text/plain": [
       "<Figure size 432x288 with 1 Axes>"
      ]
     },
     "metadata": {
      "needs_background": "light"
     },
     "output_type": "display_data"
    }
   ],
   "source": [
    "plt.imshow(primer_digito.reshape(28,28), cmap=\"Greys\")"
   ]
  },
  {
   "cell_type": "markdown",
   "id": "37f57e63",
   "metadata": {},
   "source": [
    "Para acelerar el ejercicio, vamos a tomar una muestra al azar de 10,000 observaciones."
   ]
  },
  {
   "cell_type": "code",
   "execution_count": 7,
   "id": "9dc8e3db",
   "metadata": {},
   "outputs": [
    {
     "data": {
      "text/plain": [
       "array([56422, 15795,   860, ...,  9484,  5495, 28481])"
      ]
     },
     "execution_count": 7,
     "metadata": {},
     "output_type": "execute_result"
    }
   ],
   "source": [
    "import numpy as np\n",
    "sample_size = 10000\n",
    "np.random.seed(42)\n",
    "random_sample_index = np.random.randint(0, mnist_data.shape[0], sample_size)\n",
    "random_sample_index"
   ]
  },
  {
   "cell_type": "markdown",
   "id": "76ea991d",
   "metadata": {},
   "source": [
    "Esto quiere decir que ahora la primera observación de nuestra nueva tabla era la observación número 56,422 de la tabla original, la segunda observación era la 15,795 y así sucesivamente."
   ]
  },
  {
   "cell_type": "code",
   "execution_count": 8,
   "id": "a6dcdebc",
   "metadata": {},
   "outputs": [],
   "source": [
    "mnist_muestra_pixeles = mnist_data[random_sample_index]\n",
    "mnist_muestra_clase = mnist_target[random_sample_index]"
   ]
  },
  {
   "cell_type": "markdown",
   "id": "eecdc404",
   "metadata": {},
   "source": [
    "Usa PCA para reducir la dimensionalidad del dataset (mnist_muestra_pixeles) y usa el nuevo dataset como datos de entrenamiento para un clasificador que clasifique correctamente las imagenes. El criterio de evaluacion tiene que ser el criterio F1. Hay varias formas de usar el criterio F1 para casos de multiclase (en este caso hay 10 clases, del número 0 al 9)."
   ]
  },
  {
   "cell_type": "markdown",
   "id": "cfd0d662",
   "metadata": {},
   "source": [
    "Primero tenemos que evaluar como es la distribucion de las clases objetivo:"
   ]
  },
  {
   "cell_type": "code",
   "execution_count": 9,
   "id": "17fcf146",
   "metadata": {},
   "outputs": [
    {
     "data": {
      "text/plain": [
       "1    0.1158\n",
       "7    0.1036\n",
       "2    0.1022\n",
       "6    0.1017\n",
       "8    0.1009\n",
       "9    0.0989\n",
       "4    0.0977\n",
       "3    0.0961\n",
       "0    0.0953\n",
       "5    0.0878\n",
       "dtype: float64"
      ]
     },
     "execution_count": 9,
     "metadata": {},
     "output_type": "execute_result"
    }
   ],
   "source": [
    "pd.Series(mnist_muestra_clase).value_counts(True)"
   ]
  },
  {
   "cell_type": "code",
   "execution_count": 10,
   "id": "1bb3073f",
   "metadata": {},
   "outputs": [
    {
     "data": {
      "text/plain": [
       "<seaborn.axisgrid.FacetGrid at 0x24c1bef48e0>"
      ]
     },
     "execution_count": 10,
     "metadata": {},
     "output_type": "execute_result"
    },
    {
     "data": {
      "image/png": "[encoded data removed]",
      "text/plain": [
       "<Figure size 216x216 with 1 Axes>"
      ]
     },
     "metadata": {
      "needs_background": "light"
     },
     "output_type": "display_data"
    }
   ],
   "source": [
    "# Visualizamos gráficamente esta proporción\n",
    "import seaborn as sns\n",
    "sns.displot(mnist_muestra_clase, height=3, color='red')"
   ]
  },
  {
   "cell_type": "markdown",
   "id": "7867a6f2",
   "metadata": {},
   "source": [
    "Vemos que no hay imbalance de clases, asi que podemos usar el criterio micro de F1."
   ]
  },
  {
   "cell_type": "code",
   "execution_count": 11,
   "id": "3b220ab5",
   "metadata": {},
   "outputs": [],
   "source": [
    "from sklearn.decomposition import PCA"
   ]
  },
  {
   "cell_type": "markdown",
   "id": "0564c9c8",
   "metadata": {},
   "source": [
    "Elegimos reducir la dimensionalidad pero mantener un 80% de la varianza"
   ]
  },
  {
   "cell_type": "code",
   "execution_count": 12,
   "id": "bd5c20f3",
   "metadata": {},
   "outputs": [],
   "source": [
    "# Creamos el modelo\n",
    "pca = PCA(0.8)"
   ]
  },
  {
   "cell_type": "code",
   "execution_count": 13,
   "id": "8908a148",
   "metadata": {},
   "outputs": [],
   "source": [
    "# Hacemos el ajuste\n",
    "mnist_pca = pca.fit_transform(mnist_muestra_pixeles)"
   ]
  },
  {
   "cell_type": "code",
   "execution_count": 14,
   "id": "db8db670",
   "metadata": {},
   "outputs": [
    {
     "data": {
      "text/plain": [
       "(10000, 43)"
      ]
     },
     "execution_count": 14,
     "metadata": {},
     "output_type": "execute_result"
    }
   ],
   "source": [
    "# Vemos la forma\n",
    "mnist_pca.shape"
   ]
  },
  {
   "cell_type": "markdown",
   "id": "5d1f0631",
   "metadata": {},
   "source": [
    "Observamos que las columnas se redujeron a solamente 43, en lugar de las 28x28=784 columnas que teníamos originalmente. Es decir, tomando estas nuevas 43 columnas podemos describir el 80% de la varianza de la tabla original.\n",
    "\n",
    "Ahora creamos el estimador, vamos a usar el clasificador KNN, aunque un clasificador de Regresión logística no sería mala idea, dado que la dimensionalidad no es muy alta."
   ]
  },
  {
   "cell_type": "code",
   "execution_count": 15,
   "id": "ba319700",
   "metadata": {},
   "outputs": [],
   "source": [
    "from sklearn.neighbors import KNeighborsClassifier\n",
    "from scipy.stats import randint as sp_randint\n",
    "\n",
    "clf = KNeighborsClassifier()\n",
    "\n",
    "busqueda_dist_parametros = {\n",
    "    \"n_neighbors\": sp_randint(2,10),\n",
    "    \"p\": sp_randint(1,3),\n",
    "    \"weights\": [\"uniform\", \"distance\"]\n",
    "}"
   ]
  },
  {
   "cell_type": "markdown",
   "id": "62a8f2fa",
   "metadata": {},
   "source": [
    "Ahora realizamos la búsqueda aleatoria."
   ]
  },
  {
   "cell_type": "code",
   "execution_count": 16,
   "id": "cb787071",
   "metadata": {},
   "outputs": [
    {
     "data": {
      "text/plain": [
       "RandomizedSearchCV(cv=3, estimator=KNeighborsClassifier(), n_jobs=-1,\n",
       "                   param_distributions={'n_neighbors': <scipy.stats._distn_infrastructure.rv_frozen object at 0x0000024C1D718F70>,\n",
       "                                        'p': <scipy.stats._distn_infrastructure.rv_frozen object at 0x0000024C1D727070>,\n",
       "                                        'weights': ['uniform', 'distance']},\n",
       "                   scoring='f1_micro')"
      ]
     },
     "execution_count": 16,
     "metadata": {},
     "output_type": "execute_result"
    }
   ],
   "source": [
    "from sklearn.model_selection import RandomizedSearchCV\n",
    "\n",
    "busqueda = RandomizedSearchCV(estimator=clf,\n",
    "                             param_distributions=busqueda_dist_parametros,\n",
    "                             n_iter=10,\n",
    "                             cv=3,\n",
    "                             n_jobs=-1,\n",
    "                             scoring=\"f1_micro\")\n",
    "busqueda.fit(X=mnist_pca, y=mnist_muestra_clase)"
   ]
  },
  {
   "cell_type": "code",
   "execution_count": 17,
   "id": "56d343f0",
   "metadata": {},
   "outputs": [
    {
     "data": {
      "text/plain": [
       "0.9589995592240688"
      ]
     },
     "execution_count": 17,
     "metadata": {},
     "output_type": "execute_result"
    }
   ],
   "source": [
    "# Mostramos la mejor evaluación\n",
    "busqueda.best_score_"
   ]
  },
  {
   "cell_type": "code",
   "execution_count": 18,
   "id": "a36d24ef",
   "metadata": {},
   "outputs": [
    {
     "data": {
      "text/plain": [
       "{'n_neighbors': 6, 'p': 2, 'weights': 'distance'}"
      ]
     },
     "execution_count": 18,
     "metadata": {},
     "output_type": "execute_result"
    }
   ],
   "source": [
    "# Mostramos los mejores parámetros\n",
    "busqueda.best_params_"
   ]
  },
  {
   "cell_type": "markdown",
   "id": "564b0e8d",
   "metadata": {},
   "source": [
    "Es decir, el modelo que funcionó mejor fue aquél que tiene un número de vecinos más cercanos igual a 6, medido con la distancia 2 y con el parámetros de pesos igual a distancias."
   ]
  },
  {
   "cell_type": "code",
   "execution_count": 19,
   "id": "629d19ca",
   "metadata": {},
   "outputs": [
    {
     "data": {
      "text/plain": [
       "KNeighborsClassifier(n_neighbors=6, weights='distance')"
      ]
     },
     "execution_count": 19,
     "metadata": {},
     "output_type": "execute_result"
    }
   ],
   "source": [
    "# Creamos el modelo con los parámetros más óptimos y ajustamos\n",
    "\n",
    "mejores_params = {'n_neighbors': 6, 'p': 2, 'weights': 'distance'}\n",
    "clusterer = KNeighborsClassifier(**mejores_params)\n",
    "\n",
    "clusterer.fit(mnist_pca, mnist_muestra_clase)"
   ]
  },
  {
   "cell_type": "code",
   "execution_count": 20,
   "id": "f4dd7199",
   "metadata": {},
   "outputs": [
    {
     "data": {
      "text/plain": [
       "array([4, 0, 0, ..., 2, 6, 9], dtype=uint8)"
      ]
     },
     "execution_count": 20,
     "metadata": {},
     "output_type": "execute_result"
    }
   ],
   "source": [
    "# Hacemos las predicciones\n",
    "clusterer.predict(mnist_pca)"
   ]
  },
  {
   "cell_type": "markdown",
   "id": "14be490d",
   "metadata": {},
   "source": [
    "Procedemos a determinar si las primeras 3 predicciones fueron las correctas."
   ]
  },
  {
   "cell_type": "code",
   "execution_count": 21,
   "id": "d85bf75e",
   "metadata": {},
   "outputs": [
    {
     "data": {
      "text/plain": [
       "<matplotlib.image.AxesImage at 0x24c1d844160>"
      ]
     },
     "execution_count": 21,
     "metadata": {},
     "output_type": "execute_result"
    },
    {
     "data": {
      "image/png": "[encoded data removed]",
      "text/plain": [
       "<Figure size 432x288 with 1 Axes>"
      ]
     },
     "metadata": {
      "needs_background": "light"
     },
     "output_type": "display_data"
    }
   ],
   "source": [
    "primera_observacion = mnist_data[56422]\n",
    "plt.imshow(primera_observacion.reshape(28,28), cmap=\"Greys\")"
   ]
  },
  {
   "cell_type": "code",
   "execution_count": 22,
   "id": "beb91f45",
   "metadata": {},
   "outputs": [
    {
     "data": {
      "text/plain": [
       "<matplotlib.image.AxesImage at 0x24c1d88d730>"
      ]
     },
     "execution_count": 22,
     "metadata": {},
     "output_type": "execute_result"
    },
    {
     "data": {
      "image/png": "[encoded data removed]",
      "text/plain": [
       "<Figure size 432x288 with 1 Axes>"
      ]
     },
     "metadata": {
      "needs_background": "light"
     },
     "output_type": "display_data"
    }
   ],
   "source": [
    "segunda_observacion = mnist_data[15795]\n",
    "plt.imshow(segunda_observacion.reshape(28,28), cmap=\"Greys\")"
   ]
  },
  {
   "cell_type": "code",
   "execution_count": 23,
   "id": "4afa139a",
   "metadata": {},
   "outputs": [
    {
     "data": {
      "text/plain": [
       "<matplotlib.image.AxesImage at 0x24c1d8fca60>"
      ]
     },
     "execution_count": 23,
     "metadata": {},
     "output_type": "execute_result"
    },
    {
     "data": {
      "image/png": "[encoded data removed]",
      "text/plain": [
       "<Figure size 432x288 with 1 Axes>"
      ]
     },
     "metadata": {
      "needs_background": "light"
     },
     "output_type": "display_data"
    }
   ],
   "source": [
    "tercera_observacion = mnist_data[860]\n",
    "plt.imshow(tercera_observacion.reshape(28,28), cmap=\"Greys\")"
   ]
  },
  {
   "cell_type": "markdown",
   "id": "52048e4e",
   "metadata": {},
   "source": [
    "En efecto, las primeras 3 predicciones fueron correctas.\n",
    "\n",
    "Por último, procedemos a realizar la validación cruzada para determinar qué tan eficaz fue el modelo."
   ]
  },
  {
   "cell_type": "code",
   "execution_count": 24,
   "id": "88ab0cff",
   "metadata": {},
   "outputs": [],
   "source": [
    "from sklearn.model_selection import cross_val_score"
   ]
  },
  {
   "cell_type": "code",
   "execution_count": 25,
   "id": "111510f2",
   "metadata": {},
   "outputs": [
    {
     "data": {
      "text/plain": [
       "0.9496999190020982"
      ]
     },
     "execution_count": 25,
     "metadata": {},
     "output_type": "execute_result"
    }
   ],
   "source": [
    "cross_val_score(clusterer, X=mnist_muestra_pixeles, y=mnist_muestra_clase, cv=3, scoring='f1_micro').mean()"
   ]
  },
  {
   "cell_type": "markdown",
   "id": "8f6a59e3",
   "metadata": {},
   "source": [
    "En conclusión, aún después de haber reducido el número de columnas de 784 a sólo 43, observamos que en realidad no hubo pérdida significativa de información. El modelo obtuvo casi 95% de efectividad, lo cual es excelente."
   ]
  }
 ],
 "metadata": {
  "kernelspec": {
   "display_name": "Python 3 (ipykernel)",
   "language": "python",
   "name": "python3"
  },
  "language_info": {
   "codemirror_mode": {
    "name": "ipython",
    "version": 3
   },
   "file_extension": ".py",
   "mimetype": "text/x-python",
   "name": "python",
   "nbconvert_exporter": "python",
   "pygments_lexer": "ipython3",
   "version": "3.8.0"
  }
 },
 "nbformat": 4,
 "nbformat_minor": 5
}
